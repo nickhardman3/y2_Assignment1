{
 "cells": [
  {
   "cell_type": "code",
   "execution_count": 159,
   "id": "af406ce9-4406-4311-8b8f-3793ffa24fbf",
   "metadata": {
    "tags": []
   },
   "outputs": [],
   "source": [
    "import sqlite3\n",
    "import pandas as pd\n",
    "import matplotlib.pyplot as plt\n",
    "import numpy as np\n",
    "\n",
    "\n",
    "database_service = \"sqlite\"\n",
    "database = \"jupiter.db\"\n",
    "connectable = f\"{database_service}:///{database}\"\n",
    "\n",
    "query = 'SELECT \"group\" FROM moons'\n",
    "groups = pd.read_sql(query, connectable)"
   ]
  },
  {
   "cell_type": "code",
   "execution_count": 160,
   "id": "6d4d0cdd-3f9e-4466-8d31-d5ba23ad6be5",
   "metadata": {
    "tags": []
   },
   "outputs": [
    {
     "name": "stdout",
     "output_type": "stream",
     "text": [
      "Column names for the 'moons' table:\n",
      "moon\n",
      "period_days\n",
      "distance_km\n",
      "radius_km\n",
      "mag\n",
      "mass_kg\n",
      "group\n",
      "ecc\n",
      "inclination_deg\n"
     ]
    }
   ],
   "source": [
    "\n",
    "import sqlite3\n",
    "\n",
    "connection = sqlite3.connect('jupiter.db')\n",
    "\n",
    "cursor = connection.cursor()\n",
    "\n",
    "columns_query = \"PRAGMA table_info(moons);\"\n",
    "cursor.execute(columns_query)\n",
    "columns = cursor.fetchall()\n",
    "\n",
    "# Print column names\n",
    "print(\"Column names for the 'moons' table:\")\n",
    "for column in columns:\n",
    "    print(column[1])\n",
    "\n",
    "# Close the cursor and connection\n",
    "cursor.close()\n",
    "connection.close()\n"
   ]
  },
  {
   "cell_type": "code",
   "execution_count": 161,
   "id": "631bd129-4802-418d-9a72-981a50fdefe3",
   "metadata": {
    "tags": []
   },
   "outputs": [],
   "source": [
    "import pandas as pd\n",
    "import matplotlib.pyplot as plt\n",
    "\n",
    "class Moons:\n",
    "    def __init__(self, db):\n",
    "        \n",
    "        database_service = \"sqlite\"\n",
    "        self.connectable = f\"{database_service}:///{db}\"\n",
    "        self.load_data()\n",
    "        \n",
    "    def load_data(self):\n",
    "       \n",
    "        query = \"SELECT * FROM moons\"\n",
    "        self.data = pd.read_sql(query, self.connectable)\n",
    "        \n",
    "    def stats(self, decimal_places=3):\n",
    "\n",
    "        statdp = self.data.describe()\n",
    "        statdp2 = statdp.round(decimal_places)\n",
    "        return statdp2\n",
    "\n",
    "    def correlations(self, decimal_places=3):\n",
    "\n",
    "        corrdp = self.data.corr()\n",
    "        corrdp2 = corrdp.round(decimal_places)\n",
    "        return corrdp2\n",
    "        \n",
    "    def plot_distance_histogram(self):\n",
    "        \n",
    "        plt.hist(self.data['distance_km'], bins=20, color='skyblue', edgecolor='black')\n",
    "        plt.title('Distribution of Moon Distances from Jupiter')\n",
    "        plt.xlabel('Distance (km)')\n",
    "        plt.ylabel('Frequency')\n",
    "        plt.show()\n",
    "\n",
    "    def plot_by_group(self):\n",
    "        groups = self.data['group'].unique()\n",
    "        for group in groups:\n",
    "            group_data = self.data[self.data['group'] == group]\n",
    "            plt.scatter(group_data['period_days'], group_data['distance_km'], label=group)\n",
    "                \n",
    "        plt.xlabel('Period Days')\n",
    "        plt.ylabel('Distance km')\n",
    "        plt.legend(title='Groups', loc='lower right')\n",
    "        plt.title('Scatter Plot of Period Days vs Distance km by Group')\n",
    "        plt.show()\n",
    "    \n",
    "    def extract_moon_data(self, moon_name):\n",
    "        # Extract data for a specific moon\n",
    "        moon_data = self.data[self.data['moon'] == moon_name]\n",
    "        return moon_data"
   ]
  },
  {
   "cell_type": "code",
   "execution_count": 200,
   "id": "9e2a5480-e93f-4fb7-9b95-f615cdab1cf4",
   "metadata": {
    "tags": []
   },
   "outputs": [
    {
     "ename": "AttributeError",
     "evalue": "'Moons' object has no attribute 'load_data'",
     "output_type": "error",
     "traceback": [
      "\u001b[1;31m---------------------------------------------------------------------------\u001b[0m",
      "\u001b[1;31mAttributeError\u001b[0m                            Traceback (most recent call last)",
      "Cell \u001b[1;32mIn[200], line 3\u001b[0m\n\u001b[0;32m      1\u001b[0m \u001b[38;5;28;01mfrom\u001b[39;00m \u001b[38;5;21;01mjupiter\u001b[39;00m \u001b[38;5;28;01mimport\u001b[39;00m Moons\n\u001b[1;32m----> 3\u001b[0m jupiter_moons \u001b[38;5;241m=\u001b[39m Moons(\u001b[38;5;124m'\u001b[39m\u001b[38;5;124mjupiter.db\u001b[39m\u001b[38;5;124m'\u001b[39m)\n\u001b[0;32m      5\u001b[0m correlations \u001b[38;5;241m=\u001b[39m jupiter_moons\u001b[38;5;241m.\u001b[39mcorrelations()\n\u001b[0;32m      6\u001b[0m \u001b[38;5;28mprint\u001b[39m(\u001b[38;5;124m\"\u001b[39m\u001b[38;5;124mCorrelation Statistics:\u001b[39m\u001b[38;5;124m\"\u001b[39m)\n",
      "File \u001b[1;32m~\\OneDrive\\Documents\\Chemistry\\comp files\\year 2 assignment 1\\jupiter.py:9\u001b[0m, in \u001b[0;36m__init__\u001b[1;34m(self, db)\u001b[0m\n\u001b[0;32m      7\u001b[0m \tdatabase_service = \"sqlite\"\n\u001b[0;32m      8\u001b[0m \tself.connectable = f\"{database_service}:///{db}\"\n\u001b[1;32m----> 9\u001b[0m \tself.load_data()\n\u001b[0;32m     10\u001b[0m    \n\u001b[0;32m     11\u001b[0m def sql_table(self):\n",
      "\u001b[1;31mAttributeError\u001b[0m: 'Moons' object has no attribute 'load_data'"
     ]
    }
   ],
   "source": [
    "from jupiter import Moons\n",
    "\n",
    "jupiter_moons = Moons('jupiter.db')\n",
    "\n",
    "correlations = jupiter_moons.correlations()\n",
    "print(\"Correlation Statistics:\")\n",
    "display(correlations)\n",
    "\n",
    "\n",
    "summary_stats = jupiter_moons.stats()\n",
    "print(\"Summary Statistics:\")\n",
    "display(summary_stats)\n",
    "\n",
    "jupiter_moons.plot_hist()\n",
    "\n",
    "jupiter_moons.group_plot()\n",
    "\n",
    "io_data = jupiter_moons.moon('Io')\n",
    "print(\"Data for Io:\")\n",
    "\n",
    "print(\"Here are some main statistics from the database: \\n\")\n",
    "\n",
    "mooncount = (summary_stats[\"period_days\"][\"count\"])\n",
    "print(f\"There are {mooncount} moons in the database \\n\")\n",
    "\n",
    "positivecorr = correlations[(correlations > 0.7) & (correlations != 1)  ]\n",
    "print(\"Here are the positive correlations between the variables (coefficient >0.7):\")\n",
    "display(positivecorr)\n",
    "countp1 = positivecorr.count().sum()\n",
    "countp2 = (countp1)/2\n",
    "print(f\"There are {countp2} positive correlations between variables in the dataframe \\n\")\n",
    "print(\"These are between: \\nPeriod days and distance (km) \\nPeriod days and inclination degrees \\nPeriod days and magnitude \\nPeriod days and ecc \\nDistance (km) and magnitude \\nDistance (km) and ecc \\nDistance (km) and inclination degrees \\nRadius (km) and mass (kg) \\n\")\n",
    "\n",
    "negativecorr = correlations[(correlations < -0.7)]\n",
    "print(\"Here are the negative correlations between the variables (coefficient <-0.7):\")\n",
    "display(negativecorr)\n",
    "countn1 = negativecorr.count().sum()\n",
    "countn2 = (countn1)/2\n",
    "print(f\"There are {countn2} negative correlations between variables in the dataframe\\n\")\n",
    "print(\"These are between: /nMagnitude and radius (km) \\nMagnitude and mass (kg)\\n\")\n",
    "\n",
    "for column in columns:\n",
    "    if column[1] != 'group':\n",
    "        variables = (column[1])\n",
    "        query = f\"SELECT COUNT(*) FROM moons WHERE {variables} IS NULL;\"\n",
    "        missing_count = pd.read_sql(query, connectable)\n",
    "        print(f\"Missing count for variable {variables}:\")\n",
    "        display(missing_count)\n",
    "\n"
   ]
  },
  {
   "cell_type": "code",
   "execution_count": null,
   "id": "6d96468e-ee4d-4f48-a149-5acf9c8174bb",
   "metadata": {},
   "outputs": [],
   "source": []
  },
  {
   "cell_type": "code",
   "execution_count": null,
   "id": "c06e4bea-d68e-4880-a6f9-e2a2ec388400",
   "metadata": {},
   "outputs": [],
   "source": []
  },
  {
   "cell_type": "code",
   "execution_count": null,
   "id": "0cfb0e51-f59b-49a2-b7af-12a125f4d555",
   "metadata": {},
   "outputs": [],
   "source": []
  }
 ],
 "metadata": {
  "kernelspec": {
   "display_name": "Python 3 (ipykernel)",
   "language": "python",
   "name": "python3"
  },
  "language_info": {
   "codemirror_mode": {
    "name": "ipython",
    "version": 3
   },
   "file_extension": ".py",
   "mimetype": "text/x-python",
   "name": "python",
   "nbconvert_exporter": "python",
   "pygments_lexer": "ipython3",
   "version": "3.11.4"
  }
 },
 "nbformat": 4,
 "nbformat_minor": 5
}
